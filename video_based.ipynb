{
 "cells": [
  {
   "cell_type": "markdown",
   "id": "8099d65f",
   "metadata": {},
   "source": [
    "# Facial Emotion Recognition Using Webcam\n",
    "\n",
    "---\n",
    "\n",
    "[Facial Expression Recognition(FER)Challenge](https://www.kaggle.com/datasets/ashishpatel26/facial-expression-recognitionferchallenge)\n"
   ]
  },
  {
   "cell_type": "markdown",
   "id": "1a9d7ef9",
   "metadata": {},
   "source": [
    "## Importing Dependencies"
   ]
  },
  {
   "cell_type": "code",
   "execution_count": 7,
   "id": "e1a16823",
   "metadata": {},
   "outputs": [],
   "source": [
    "import cv2\n",
    "import keyboard\n",
    "import numpy as np\n",
    "from tensorflow.keras.utils import img_to_array\n",
    "from tensorflow.keras.models import model_from_json"
   ]
  },
  {
   "cell_type": "code",
   "execution_count": 8,
   "id": "e10da008",
   "metadata": {},
   "outputs": [],
   "source": [
    "model = model_from_json(open(\"./data/video_based/fer.json\", \"r\").read())\n",
    "model.load_weights('./data/video_based/fer.h5')"
   ]
  },
  {
   "cell_type": "code",
   "execution_count": 9,
   "id": "7f8e8f6f",
   "metadata": {},
   "outputs": [],
   "source": [
    "face_haar_cascade = cv2.CascadeClassifier('./data/video_based/haarcascade_frontalface_default.xml')"
   ]
  },
  {
   "cell_type": "code",
   "execution_count": 10,
   "id": "969574cd",
   "metadata": {},
   "outputs": [
    {
     "name": "stdout",
     "output_type": "stream",
     "text": [
      "1/1 [==============================] - 0s 243ms/step\n",
      "neutral\n",
      "1/1 [==============================] - 0s 32ms/step\n",
      "neutral\n",
      "1/1 [==============================] - 0s 32ms/step\n",
      "neutral\n",
      "1/1 [==============================] - 0s 37ms/step\n",
      "neutral\n",
      "1/1 [==============================] - 0s 32ms/step\n",
      "neutral\n",
      "1/1 [==============================] - 0s 34ms/step\n",
      "happy\n",
      "1/1 [==============================] - 0s 17ms/step\n",
      "happy\n",
      "1/1 [==============================] - 0s 32ms/step\n",
      "angry\n"
     ]
    }
   ],
   "source": [
    "cap=cv2.VideoCapture(0) \n",
    "while cap.isOpened():\n",
    "    res,frame=cap.read()\n",
    "    height, width , channel = frame.shape\n",
    "    gray_image= cv2.cvtColor(frame, cv2.COLOR_BGR2GRAY)\n",
    "    faces = face_haar_cascade.detectMultiScale(gray_image)\n",
    "    try:\n",
    "        for (x,y, w, h) in faces:\n",
    "            roi_gray = gray_image[y-5:y+h+5,x-5:x+w+5]\n",
    "            roi_gray=cv2.resize(roi_gray,(48,48))\n",
    "            image_pixels = img_to_array(roi_gray)\n",
    "            image_pixels = np.expand_dims(image_pixels, axis = 0)\n",
    "            image_pixels /= 255\n",
    "            if keyboard.is_pressed('l'):\n",
    "                predictions = model.predict(image_pixels)\n",
    "                max_index = np.argmax(predictions[0])\n",
    "                emotion_detection = ('angry', 'disgust', 'fear', 'happy', 'sad', 'surprise', 'neutral')\n",
    "                emotion_prediction = emotion_detection[max_index]\n",
    "                print(emotion_prediction)\n",
    "    except:\n",
    "        pass\n",
    "    cv2.imshow('frame', frame)\n",
    "    if cv2.waitKey(1) & 0xFF == ord('q'):\n",
    "        cap.release()\n",
    "        break\n",
    "cv2.destroyAllWindows()"
   ]
  }
 ],
 "metadata": {
  "kernelspec": {
   "display_name": "Python 3 (ipykernel)",
   "language": "python",
   "name": "python3"
  },
  "language_info": {
   "codemirror_mode": {
    "name": "ipython",
    "version": 3
   },
   "file_extension": ".py",
   "mimetype": "text/x-python",
   "name": "python",
   "nbconvert_exporter": "python",
   "pygments_lexer": "ipython3",
   "version": "3.8.10"
  }
 },
 "nbformat": 4,
 "nbformat_minor": 5
}
